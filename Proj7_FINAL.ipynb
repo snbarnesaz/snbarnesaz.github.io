{
 "cells": [
  {
   "cell_type": "markdown",
   "metadata": {},
   "source": [
    "# Barnes_Final_Proj7\n",
    "\n",
    "**Stephen_Barnes**\n",
    "\n",
    "House Price Estimation (improvement vs. Dr. Williams' model), submitted Oct 2023"
   ]
  },
  {
   "cell_type": "markdown",
   "metadata": {},
   "source": [
    "# Index\n",
    "\n",
    "- [Abstract](#Abstract)\n",
    "- [1. Introduction](#1.-Introduction)\n",
    "- [2. The Data](#2.-The-Data)\n",
    "    - [2.1 Import the Data](#2.1-Import-the-Data)\n",
    "    - [2.2 Data Exploration](#2.2-Data-Exploration)\n",
    "    - [2.3 Data Preparation](#2.3-Data-Preparation)\n",
    "    - [2.4 Correlation](#2.4-Correlation)\n",
    "- [3. Project Description](#3.-Project-Description)\n",
    "    - [3.1 Linear Regression](#3.1-Linear-Regression)\n",
    "    - [3.2 Analysis](#3.2-Analysis)\n",
    "    - [3.3 Results](#3.3-Results)\n",
    "    - [3.4 Verify Your Model Against Test Data](#3.4-Verify-Your-Model-Against-Test-Data)\n",
    "- [Conclusion](#Conclusion)\n",
    "- [References](#References)"
   ]
  },
  {
   "cell_type": "markdown",
   "metadata": {},
   "source": [
    "[Back to top](#Index)\n",
    "\n",
    "\n",
    "##  Abstract\n",
    "\n",
    "The goal of my project was to improve upon Dr. Williams' model by: \n",
    "\n",
    "1.) Incorporating a broader range of independent x-variables; \n",
    "\n",
    "2.) Cleaning the csv file to 'drop' and/or 'impute' data as necessary;\n",
    "\n",
    "3.) Addressing the issue of multicollinearity; \n",
    "\n",
    "4.) Calculating correlation and linear regression, and;\n",
    "\n",
    "5.) Plotting the results in a scatter graph.\n",
    "\n",
    "Using multiple linear regression, I predicted house prices based on several of the csv file's columns, specifically those columns with more than 50% correlation to my dependent (y-value), SalePrice. In the end, the independent (x) variables in my model had > 96% predictability to SalePrice."
   ]
  },
  {
   "cell_type": "markdown",
   "metadata": {},
   "source": [
    "[Back to top](#Index)\n",
    "\n",
    "\n",
    "## 1. Introduction\n",
    "\n",
    "This project uses data analysis techniques and linear regression to create a model to predict house prices. The goal of this project is to improve upon Dr. Williams’ results from module 7 by choosing more variables in the dataframe, among other things, when creating my model. My project includes an analysis of several variables from the csv file and offers solutions that improve upon Dr. Williams' model.\n",
    "\n",
    "My approach for this project was to read the csv file into a variable called 'data' in order to train a subset of the data to, ultimately, identify the independent (x-value) variables that best predict the dependent (y-value) variable, housing prices. As part of this process, I plot the data into a histogram, clean the data, calculate the correlation between X-values and housing prices, build a linear regression model and, finally, create a scatter plot to visually represent the data."
   ]
  },
  {
   "cell_type": "markdown",
   "metadata": {},
   "source": [
    "[Back to top](#Index)\n",
    "\n",
    "## 2. Data Approach"
   ]
  },
  {
   "cell_type": "markdown",
   "metadata": {},
   "source": [
    "To acheive the goals outlined above, the first step was to import the necessary libraries:"
   ]
  },
  {
   "cell_type": "code",
   "execution_count": 4,
   "metadata": {},
   "outputs": [],
   "source": [
    "import numpy as np\n",
    "import pandas as pd\n",
    "from sklearn import linear_model\n",
    "import matplotlib.pyplot as plt"
   ]
  },
  {
   "cell_type": "markdown",
   "metadata": {},
   "source": [
    "[Back to top](#Index)\n",
    "\n",
    "### 2.2 Data Exploration"
   ]
  },
  {
   "cell_type": "markdown",
   "metadata": {},
   "source": [
    "To get familiar with the data, I created a histogram (below). As you can see, 70% of house prices fall between $125K and 225K. This doesn't tell us anything about correlation, but it *does* give us a sense of where most houses are priced. Now we can begin to identify the variables that place houses in their respective bins and consider what steps a homeowner may take to increase their house's value. These variables will also tell a prospective home buyer if a house is a bargain, resonably priced, or over-priced."
   ]
  },
  {
   "cell_type": "code",
   "execution_count": 5,
   "metadata": {},
   "outputs": [
    {
     "data": {
      "text/plain": [
       "(array([1., 6., 5., 1., 2., 1., 1., 1., 1., 1.]),\n",
       " array([ 90000., 115500., 141000., 166500., 192000., 217500., 243000.,\n",
       "        268500., 294000., 319500., 345000.]),\n",
       " <BarContainer object of 10 artists>)"
      ]
     },
     "execution_count": 5,
     "metadata": {},
     "output_type": "execute_result"
    },
    {
     "data": {
      "image/png": "[encoded data removed]",
      "text/plain": [
       "<Figure size 640x480 with 1 Axes>"
      ]
     },
     "metadata": {},
     "output_type": "display_data"
    }
   ],
   "source": [
    "my_data = pd.read_csv(\"houseSmallData_v2.csv\")\n",
    "train = my_data.iloc[0:20,:] #This takes a subset of the csv file, 20 rows and all columns (i.e. a DataFrame)\n",
    "plt.hist(train[\"SalePrice\"]) #This creates a quick histogram so I can get familiar with the data."
   ]
  },
  {
   "cell_type": "markdown",
   "metadata": {},
   "source": [
    "[Back to top](#Index)\n",
    "\n",
    "### 2.3 Data Preparation\n"
   ]
  },
  {
   "cell_type": "markdown",
   "metadata": {},
   "source": [
    "My process for data preparation was to, first, read the data from the csv file and select only those columns in the dataframe with numeric values. Then, I calculated the correlation between the independent x-variables and SalePrice. The final step was to sort the results from highest correlation to lowest, but selecting only those columns with correlations to SalePrice greater than 50% (14 rows, excluding SalePrice itself). \n",
    "\n",
    "Once that was done, I identified columns with missing data and imputed and/or removed 'bad' data, regardless of data type. \n",
    "\n",
    "Note: Despite the fact that I had already removed non-numeric columns, I received an error message that forced me to tackle all data types (see 2.3.1 below). I was able to do this with the help of OpenAI's GPT4."
   ]
  },
  {
   "cell_type": "markdown",
   "metadata": {},
   "source": [
    "### Below is the table with my independent x-values correlated to SalePrice (y), sorted desc."
   ]
  },
  {
   "cell_type": "code",
   "execution_count": 6,
   "metadata": {},
   "outputs": [
    {
     "data": {
      "text/plain": [
       "SalePrice       1.000000\n",
       "OverallQual     0.807380\n",
       "MasVnrArea      0.788274\n",
       "FullBath        0.721954\n",
       "TotRmsAbvGrd    0.699634\n",
       "YearBuilt       0.699627\n",
       "YearRemodAdd    0.698731\n",
       "GarageArea      0.696998\n",
       "BedroomAbvGr    0.681291\n",
       "GrLivArea       0.676909\n",
       "TotalBsmtSF     0.651318\n",
       "GarageYrBlt     0.649557\n",
       "LotFrontage     0.606910\n",
       "WoodDeckSF      0.575730\n",
       "GarageCars      0.571377\n",
       "Name: SalePrice, dtype: float64"
      ]
     },
     "execution_count": 6,
     "metadata": {},
     "output_type": "execute_result"
    }
   ],
   "source": [
    "numeric = train.select_dtypes(include=[np.number]) \n",
    "#This includes only those columns in the DataFrame with numeric values.\n",
    "\n",
    "corr = numeric.corr() #This calculates the correlation between each pair of numerical columns in the DataFrame.\n",
    "#The correlation matrix is stored in a new variable called corr.\n",
    "\n",
    "cols = corr[\"SalePrice\"].sort_values(ascending=False)[0:15] \n",
    "#This selects the column \"SalePrice\" from the correlation matrix and sorts it by correlation in descending order.\n",
    "#My approach was to pick all x-variables with over 50% correlation to SalePrice (excluding SalePrice itself).\n",
    "cols"
   ]
  },
  {
   "cell_type": "markdown",
   "metadata": {},
   "source": [
    "### Data Cleaning (columns with missing values)"
   ]
  },
  {
   "cell_type": "code",
   "execution_count": 7,
   "metadata": {},
   "outputs": [
    {
     "name": "stdout",
     "output_type": "stream",
     "text": [
      "Columns with missing values: ['LotFrontage', 'Alley', 'BsmtQual', 'BsmtCond', 'BsmtExposure', 'BsmtFinType1', 'BsmtFinType2', 'FireplaceQu', 'PoolQC', 'Fence', 'MiscFeature']\n"
     ]
    }
   ],
   "source": [
    "missing_columns = train.columns[train.isna().any()].tolist()\n",
    "\n",
    "print(\"Columns with missing values:\", missing_columns)"
   ]
  },
  {
   "cell_type": "code",
   "execution_count": 8,
   "metadata": {},
   "outputs": [],
   "source": [
    "#Impute and/or remove 'bad' data from train and name the cleaned dataframe train_imputed.\n",
    "#NOTE: I used OpenAI's GPT4 to help me write the code below.\n",
    "\n",
    "from sklearn.impute import SimpleImputer\n",
    "\n",
    "# Separate numeric and non-numeric columns\n",
    "numeric_cols = train.select_dtypes(include=[np.number]).columns.tolist()\n",
    "non_numeric_cols = train.select_dtypes(exclude=[np.number]).columns.tolist()\n",
    "\n",
    "# Initialize imputers\n",
    "numeric_imputer = SimpleImputer(strategy='mean')\n",
    "non_numeric_imputer = SimpleImputer(strategy='most_frequent')  # or use 'constant'\n",
    "\n",
    "# Remove columns that have all missing values\n",
    "all_missing_numeric_cols = [col for col in numeric_cols if train[col].isna().all()]\n",
    "all_missing_non_numeric_cols = [col for col in non_numeric_cols if train[col].isna().all()]\n",
    "\n",
    "numeric_cols = [col for col in numeric_cols if col not in all_missing_numeric_cols]\n",
    "non_numeric_cols = [col for col in non_numeric_cols if col not in all_missing_non_numeric_cols]\n",
    "\n",
    "# Apply imputers\n",
    "train_numeric_imputed = numeric_imputer.fit_transform(train[numeric_cols])\n",
    "train_non_numeric_imputed = non_numeric_imputer.fit_transform(train[non_numeric_cols])\n",
    "\n",
    "# Convert back to DataFrames\n",
    "train_numeric_imputed_df = pd.DataFrame(train_numeric_imputed, columns=numeric_cols)\n",
    "train_non_numeric_imputed_df = pd.DataFrame(train_non_numeric_imputed, columns=non_numeric_cols)\n",
    "\n",
    "# Combine the imputed DataFrames back together\n",
    "train_imputed = pd.concat([train_numeric_imputed_df, train_non_numeric_imputed_df], axis=1)\n"
   ]
  },
  {
   "cell_type": "markdown",
   "metadata": {},
   "source": [
    "[Back to top](#Index)\n",
    "\n",
    "### 2.4 Observations after correlating 'clean' independent x-variables to SalePrice (y)\n",
    "\n",
    "After cleaning the data, I re-ran the correlation table (below) and decided to use all 14 rows with correlations to SalePrice greater than 50% (excluding SalePrice itself). \n",
    "Observations:\n",
    "1. **OverallQual**: A correlation coefficient of 0.807 suggests that as the overall quality of a house improves, the sale price is likely to significantly increase. This makes intuitive sense as quality is often the most direct factor affecting price.\n",
    "\n",
    "2. **MasVnrArea**: The Masonry veneer area is also highly correlated with sale price, suggesting that homes with larger veneer areas are more expensive.\n",
    "\n",
    "3. **FullBath**: The number of full bathrooms also has a strong correlation with price. More bathrooms often mean a more convenient and possibly larger home, which would lead to a higher price.\n",
    "\n",
    "4. **YearBuilt & YearRemodAdd**: The years when the home was built and remodeled are almost equally correlated with sale price. Newer and recently remodeled homes are likely to fetch higher prices.\n",
    "\n",
    "5. **GarageArea vs GarageCars**: GarageArea is slightly more correlated with SalePrice than GarageCars. This might suggest that the area of the garage is a more significant factor than the number of cars it can hold.\n",
    "\n",
    "One thing to keep in mind is the issue of multicollinearity. For example, GarageArea and GarageCars may be highly correlated with each other. If both are used in the model, they can distort the importance of each feature. Consequently, I removed GarageCars from the dataframe below in Project Description.\n",
    "\n",
    "In summary, variables like OverallQual, MasVnrArea, and FullBath appear to be the most promising for predicting SalePrice. Having said that, I felt like we may as well use all independent variables with > 50% correlation to SalePrice since we have them handy (but also factoring in multicollinearity)."
   ]
  },
  {
   "cell_type": "code",
   "execution_count": 9,
   "metadata": {},
   "outputs": [
    {
     "data": {
      "text/plain": [
       "SalePrice       1.000000\n",
       "OverallQual     0.807380\n",
       "MasVnrArea      0.788274\n",
       "FullBath        0.721954\n",
       "TotRmsAbvGrd    0.699634\n",
       "YearBuilt       0.699627\n",
       "YearRemodAdd    0.698731\n",
       "GarageArea      0.696998\n",
       "BedroomAbvGr    0.681291\n",
       "GrLivArea       0.676909\n",
       "TotalBsmtSF     0.651318\n",
       "GarageYrBlt     0.649557\n",
       "LotFrontage     0.593996\n",
       "WoodDeckSF      0.575730\n",
       "GarageCars      0.571377\n",
       "Name: SalePrice, dtype: float64"
      ]
     },
     "execution_count": 9,
     "metadata": {},
     "output_type": "execute_result"
    }
   ],
   "source": [
    "numeric = train_imputed.select_dtypes(include=[np.number]) \n",
    "corr = numeric.corr()\n",
    "cols = corr[\"SalePrice\"].sort_values(ascending=False)[0:15] \n",
    "cols"
   ]
  },
  {
   "cell_type": "markdown",
   "metadata": {},
   "source": [
    "\n",
    "[Back to top](#Index)\n",
    "\n",
    "## 3. Project Description\n",
    "\n",
    "My analysis improves upon Dr. William's analysis because I included all 14 independent (x) variables with > 50% corrleation to SalePrice (y), excluding SalePrice itself. I also considered the issue of multicollinearity when anaylizing the data. For example, in the analysis below, I excluded GarageCars since it's likely to be highly correlated to GarageArea. In the end, my approach generated a model score of 96%.\n",
    "\n",
    "As you can see below, once I generated the clean correlation table, I created the table 'x' that includes the first twenty rows of those cleaned columns most closely related to SalePrice. As part of this process, I had to convert the index of the series 'cols' into a list. This is because the index of my series is essentially the names of the columns in the dataframe that have significant correlation with SalePrice. So, when I want to select these columns from my original DataFrame (train_imputed in this case), I need to provide these column names as a list. If I hadn't converted the index to a list, I could’ve run into type errors."
   ]
  },
  {
   "cell_type": "code",
   "execution_count": 10,
   "metadata": {},
   "outputs": [
    {
     "data": {
      "text/html": [
       "<div>\n",
       "<style scoped>\n",
       "    .dataframe tbody tr th:only-of-type {\n",
       "        vertical-align: middle;\n",
       "    }\n",
       "\n",
       "    .dataframe tbody tr th {\n",
       "        vertical-align: top;\n",
       "    }\n",
       "\n",
       "    .dataframe thead th {\n",
       "        text-align: right;\n",
       "    }\n",
       "</style>\n",
       "<table border=\"1\" class=\"dataframe\">\n",
       "  <thead>\n",
       "    <tr style=\"text-align: right;\">\n",
       "      <th></th>\n",
       "      <th>SalePrice</th>\n",
       "      <th>OverallQual</th>\n",
       "      <th>MasVnrArea</th>\n",
       "      <th>FullBath</th>\n",
       "      <th>TotRmsAbvGrd</th>\n",
       "      <th>YearBuilt</th>\n",
       "      <th>YearRemodAdd</th>\n",
       "      <th>GarageArea</th>\n",
       "      <th>BedroomAbvGr</th>\n",
       "      <th>GrLivArea</th>\n",
       "      <th>TotalBsmtSF</th>\n",
       "      <th>GarageYrBlt</th>\n",
       "      <th>LotFrontage</th>\n",
       "      <th>WoodDeckSF</th>\n",
       "    </tr>\n",
       "  </thead>\n",
       "  <tbody>\n",
       "    <tr>\n",
       "      <th>0</th>\n",
       "      <td>208500.0</td>\n",
       "      <td>7.0</td>\n",
       "      <td>196.0</td>\n",
       "      <td>2.0</td>\n",
       "      <td>8.0</td>\n",
       "      <td>2003.0</td>\n",
       "      <td>2003.0</td>\n",
       "      <td>548.0</td>\n",
       "      <td>3.0</td>\n",
       "      <td>1710.0</td>\n",
       "      <td>856.0</td>\n",
       "      <td>2003.0</td>\n",
       "      <td>65.0000</td>\n",
       "      <td>0.0</td>\n",
       "    </tr>\n",
       "    <tr>\n",
       "      <th>1</th>\n",
       "      <td>181500.0</td>\n",
       "      <td>6.0</td>\n",
       "      <td>0.0</td>\n",
       "      <td>2.0</td>\n",
       "      <td>6.0</td>\n",
       "      <td>1976.0</td>\n",
       "      <td>1976.0</td>\n",
       "      <td>460.0</td>\n",
       "      <td>3.0</td>\n",
       "      <td>1262.0</td>\n",
       "      <td>1262.0</td>\n",
       "      <td>1976.0</td>\n",
       "      <td>80.0000</td>\n",
       "      <td>298.0</td>\n",
       "    </tr>\n",
       "    <tr>\n",
       "      <th>2</th>\n",
       "      <td>223500.0</td>\n",
       "      <td>7.0</td>\n",
       "      <td>162.0</td>\n",
       "      <td>2.0</td>\n",
       "      <td>6.0</td>\n",
       "      <td>2001.0</td>\n",
       "      <td>2002.0</td>\n",
       "      <td>608.0</td>\n",
       "      <td>3.0</td>\n",
       "      <td>1786.0</td>\n",
       "      <td>920.0</td>\n",
       "      <td>2001.0</td>\n",
       "      <td>68.0000</td>\n",
       "      <td>0.0</td>\n",
       "    </tr>\n",
       "    <tr>\n",
       "      <th>3</th>\n",
       "      <td>140000.0</td>\n",
       "      <td>7.0</td>\n",
       "      <td>0.0</td>\n",
       "      <td>1.0</td>\n",
       "      <td>7.0</td>\n",
       "      <td>1915.0</td>\n",
       "      <td>1970.0</td>\n",
       "      <td>642.0</td>\n",
       "      <td>3.0</td>\n",
       "      <td>1717.0</td>\n",
       "      <td>756.0</td>\n",
       "      <td>1998.0</td>\n",
       "      <td>60.0000</td>\n",
       "      <td>0.0</td>\n",
       "    </tr>\n",
       "    <tr>\n",
       "      <th>4</th>\n",
       "      <td>250000.0</td>\n",
       "      <td>8.0</td>\n",
       "      <td>350.0</td>\n",
       "      <td>2.0</td>\n",
       "      <td>9.0</td>\n",
       "      <td>2000.0</td>\n",
       "      <td>2000.0</td>\n",
       "      <td>836.0</td>\n",
       "      <td>4.0</td>\n",
       "      <td>2198.0</td>\n",
       "      <td>1145.0</td>\n",
       "      <td>2000.0</td>\n",
       "      <td>84.0000</td>\n",
       "      <td>192.0</td>\n",
       "    </tr>\n",
       "    <tr>\n",
       "      <th>5</th>\n",
       "      <td>143000.0</td>\n",
       "      <td>5.0</td>\n",
       "      <td>0.0</td>\n",
       "      <td>1.0</td>\n",
       "      <td>5.0</td>\n",
       "      <td>1993.0</td>\n",
       "      <td>1995.0</td>\n",
       "      <td>480.0</td>\n",
       "      <td>1.0</td>\n",
       "      <td>1362.0</td>\n",
       "      <td>796.0</td>\n",
       "      <td>1993.0</td>\n",
       "      <td>85.0000</td>\n",
       "      <td>40.0</td>\n",
       "    </tr>\n",
       "    <tr>\n",
       "      <th>6</th>\n",
       "      <td>307000.0</td>\n",
       "      <td>8.0</td>\n",
       "      <td>186.0</td>\n",
       "      <td>2.0</td>\n",
       "      <td>7.0</td>\n",
       "      <td>2004.0</td>\n",
       "      <td>2005.0</td>\n",
       "      <td>636.0</td>\n",
       "      <td>3.0</td>\n",
       "      <td>1694.0</td>\n",
       "      <td>1686.0</td>\n",
       "      <td>2004.0</td>\n",
       "      <td>75.0000</td>\n",
       "      <td>255.0</td>\n",
       "    </tr>\n",
       "    <tr>\n",
       "      <th>7</th>\n",
       "      <td>200000.0</td>\n",
       "      <td>7.0</td>\n",
       "      <td>240.0</td>\n",
       "      <td>2.0</td>\n",
       "      <td>7.0</td>\n",
       "      <td>1973.0</td>\n",
       "      <td>1973.0</td>\n",
       "      <td>484.0</td>\n",
       "      <td>3.0</td>\n",
       "      <td>2090.0</td>\n",
       "      <td>1107.0</td>\n",
       "      <td>1973.0</td>\n",
       "      <td>70.1875</td>\n",
       "      <td>235.0</td>\n",
       "    </tr>\n",
       "    <tr>\n",
       "      <th>8</th>\n",
       "      <td>129900.0</td>\n",
       "      <td>7.0</td>\n",
       "      <td>0.0</td>\n",
       "      <td>2.0</td>\n",
       "      <td>8.0</td>\n",
       "      <td>1931.0</td>\n",
       "      <td>1950.0</td>\n",
       "      <td>468.0</td>\n",
       "      <td>2.0</td>\n",
       "      <td>1774.0</td>\n",
       "      <td>952.0</td>\n",
       "      <td>1931.0</td>\n",
       "      <td>51.0000</td>\n",
       "      <td>90.0</td>\n",
       "    </tr>\n",
       "    <tr>\n",
       "      <th>9</th>\n",
       "      <td>118000.0</td>\n",
       "      <td>5.0</td>\n",
       "      <td>0.0</td>\n",
       "      <td>1.0</td>\n",
       "      <td>5.0</td>\n",
       "      <td>1939.0</td>\n",
       "      <td>1950.0</td>\n",
       "      <td>205.0</td>\n",
       "      <td>2.0</td>\n",
       "      <td>1077.0</td>\n",
       "      <td>991.0</td>\n",
       "      <td>1939.0</td>\n",
       "      <td>50.0000</td>\n",
       "      <td>0.0</td>\n",
       "    </tr>\n",
       "    <tr>\n",
       "      <th>10</th>\n",
       "      <td>129500.0</td>\n",
       "      <td>5.0</td>\n",
       "      <td>0.0</td>\n",
       "      <td>1.0</td>\n",
       "      <td>5.0</td>\n",
       "      <td>1965.0</td>\n",
       "      <td>1965.0</td>\n",
       "      <td>384.0</td>\n",
       "      <td>3.0</td>\n",
       "      <td>1040.0</td>\n",
       "      <td>1040.0</td>\n",
       "      <td>1965.0</td>\n",
       "      <td>70.0000</td>\n",
       "      <td>0.0</td>\n",
       "    </tr>\n",
       "    <tr>\n",
       "      <th>11</th>\n",
       "      <td>345000.0</td>\n",
       "      <td>9.0</td>\n",
       "      <td>286.0</td>\n",
       "      <td>3.0</td>\n",
       "      <td>11.0</td>\n",
       "      <td>2005.0</td>\n",
       "      <td>2006.0</td>\n",
       "      <td>736.0</td>\n",
       "      <td>4.0</td>\n",
       "      <td>2324.0</td>\n",
       "      <td>1175.0</td>\n",
       "      <td>2005.0</td>\n",
       "      <td>85.0000</td>\n",
       "      <td>147.0</td>\n",
       "    </tr>\n",
       "    <tr>\n",
       "      <th>12</th>\n",
       "      <td>144000.0</td>\n",
       "      <td>5.0</td>\n",
       "      <td>0.0</td>\n",
       "      <td>1.0</td>\n",
       "      <td>4.0</td>\n",
       "      <td>1962.0</td>\n",
       "      <td>1962.0</td>\n",
       "      <td>352.0</td>\n",
       "      <td>2.0</td>\n",
       "      <td>912.0</td>\n",
       "      <td>912.0</td>\n",
       "      <td>1962.0</td>\n",
       "      <td>70.1875</td>\n",
       "      <td>140.0</td>\n",
       "    </tr>\n",
       "    <tr>\n",
       "      <th>13</th>\n",
       "      <td>279500.0</td>\n",
       "      <td>7.0</td>\n",
       "      <td>306.0</td>\n",
       "      <td>2.0</td>\n",
       "      <td>7.0</td>\n",
       "      <td>2006.0</td>\n",
       "      <td>2007.0</td>\n",
       "      <td>840.0</td>\n",
       "      <td>3.0</td>\n",
       "      <td>1494.0</td>\n",
       "      <td>1494.0</td>\n",
       "      <td>2006.0</td>\n",
       "      <td>91.0000</td>\n",
       "      <td>160.0</td>\n",
       "    </tr>\n",
       "    <tr>\n",
       "      <th>14</th>\n",
       "      <td>157000.0</td>\n",
       "      <td>6.0</td>\n",
       "      <td>212.0</td>\n",
       "      <td>1.0</td>\n",
       "      <td>5.0</td>\n",
       "      <td>1960.0</td>\n",
       "      <td>1960.0</td>\n",
       "      <td>352.0</td>\n",
       "      <td>2.0</td>\n",
       "      <td>1253.0</td>\n",
       "      <td>1253.0</td>\n",
       "      <td>1960.0</td>\n",
       "      <td>70.1875</td>\n",
       "      <td>0.0</td>\n",
       "    </tr>\n",
       "    <tr>\n",
       "      <th>15</th>\n",
       "      <td>132000.0</td>\n",
       "      <td>7.0</td>\n",
       "      <td>0.0</td>\n",
       "      <td>1.0</td>\n",
       "      <td>5.0</td>\n",
       "      <td>1929.0</td>\n",
       "      <td>2001.0</td>\n",
       "      <td>576.0</td>\n",
       "      <td>2.0</td>\n",
       "      <td>854.0</td>\n",
       "      <td>832.0</td>\n",
       "      <td>1991.0</td>\n",
       "      <td>51.0000</td>\n",
       "      <td>48.0</td>\n",
       "    </tr>\n",
       "    <tr>\n",
       "      <th>16</th>\n",
       "      <td>149000.0</td>\n",
       "      <td>6.0</td>\n",
       "      <td>180.0</td>\n",
       "      <td>1.0</td>\n",
       "      <td>5.0</td>\n",
       "      <td>1970.0</td>\n",
       "      <td>1970.0</td>\n",
       "      <td>480.0</td>\n",
       "      <td>2.0</td>\n",
       "      <td>1004.0</td>\n",
       "      <td>1004.0</td>\n",
       "      <td>1970.0</td>\n",
       "      <td>70.1875</td>\n",
       "      <td>0.0</td>\n",
       "    </tr>\n",
       "    <tr>\n",
       "      <th>17</th>\n",
       "      <td>90000.0</td>\n",
       "      <td>4.0</td>\n",
       "      <td>0.0</td>\n",
       "      <td>2.0</td>\n",
       "      <td>6.0</td>\n",
       "      <td>1967.0</td>\n",
       "      <td>1967.0</td>\n",
       "      <td>516.0</td>\n",
       "      <td>2.0</td>\n",
       "      <td>1296.0</td>\n",
       "      <td>0.0</td>\n",
       "      <td>1967.0</td>\n",
       "      <td>72.0000</td>\n",
       "      <td>0.0</td>\n",
       "    </tr>\n",
       "    <tr>\n",
       "      <th>18</th>\n",
       "      <td>159000.0</td>\n",
       "      <td>5.0</td>\n",
       "      <td>0.0</td>\n",
       "      <td>1.0</td>\n",
       "      <td>6.0</td>\n",
       "      <td>2004.0</td>\n",
       "      <td>2004.0</td>\n",
       "      <td>576.0</td>\n",
       "      <td>3.0</td>\n",
       "      <td>1114.0</td>\n",
       "      <td>1114.0</td>\n",
       "      <td>2004.0</td>\n",
       "      <td>66.0000</td>\n",
       "      <td>0.0</td>\n",
       "    </tr>\n",
       "    <tr>\n",
       "      <th>19</th>\n",
       "      <td>139000.0</td>\n",
       "      <td>5.0</td>\n",
       "      <td>0.0</td>\n",
       "      <td>1.0</td>\n",
       "      <td>6.0</td>\n",
       "      <td>1958.0</td>\n",
       "      <td>1965.0</td>\n",
       "      <td>294.0</td>\n",
       "      <td>3.0</td>\n",
       "      <td>1339.0</td>\n",
       "      <td>1029.0</td>\n",
       "      <td>1958.0</td>\n",
       "      <td>70.0000</td>\n",
       "      <td>0.0</td>\n",
       "    </tr>\n",
       "  </tbody>\n",
       "</table>\n",
       "</div>"
      ],
      "text/plain": [
       "    SalePrice  OverallQual  MasVnrArea  FullBath  TotRmsAbvGrd  YearBuilt  \\\n",
       "0    208500.0          7.0       196.0       2.0           8.0     2003.0   \n",
       "1    181500.0          6.0         0.0       2.0           6.0     1976.0   \n",
       "2    223500.0          7.0       162.0       2.0           6.0     2001.0   \n",
       "3    140000.0          7.0         0.0       1.0           7.0     1915.0   \n",
       "4    250000.0          8.0       350.0       2.0           9.0     2000.0   \n",
       "5    143000.0          5.0         0.0       1.0           5.0     1993.0   \n",
       "6    307000.0          8.0       186.0       2.0           7.0     2004.0   \n",
       "7    200000.0          7.0       240.0       2.0           7.0     1973.0   \n",
       "8    129900.0          7.0         0.0       2.0           8.0     1931.0   \n",
       "9    118000.0          5.0         0.0       1.0           5.0     1939.0   \n",
       "10   129500.0          5.0         0.0       1.0           5.0     1965.0   \n",
       "11   345000.0          9.0       286.0       3.0          11.0     2005.0   \n",
       "12   144000.0          5.0         0.0       1.0           4.0     1962.0   \n",
       "13   279500.0          7.0       306.0       2.0           7.0     2006.0   \n",
       "14   157000.0          6.0       212.0       1.0           5.0     1960.0   \n",
       "15   132000.0          7.0         0.0       1.0           5.0     1929.0   \n",
       "16   149000.0          6.0       180.0       1.0           5.0     1970.0   \n",
       "17    90000.0          4.0         0.0       2.0           6.0     1967.0   \n",
       "18   159000.0          5.0         0.0       1.0           6.0     2004.0   \n",
       "19   139000.0          5.0         0.0       1.0           6.0     1958.0   \n",
       "\n",
       "    YearRemodAdd  GarageArea  BedroomAbvGr  GrLivArea  TotalBsmtSF  \\\n",
       "0         2003.0       548.0           3.0     1710.0        856.0   \n",
       "1         1976.0       460.0           3.0     1262.0       1262.0   \n",
       "2         2002.0       608.0           3.0     1786.0        920.0   \n",
       "3         1970.0       642.0           3.0     1717.0        756.0   \n",
       "4         2000.0       836.0           4.0     2198.0       1145.0   \n",
       "5         1995.0       480.0           1.0     1362.0        796.0   \n",
       "6         2005.0       636.0           3.0     1694.0       1686.0   \n",
       "7         1973.0       484.0           3.0     2090.0       1107.0   \n",
       "8         1950.0       468.0           2.0     1774.0        952.0   \n",
       "9         1950.0       205.0           2.0     1077.0        991.0   \n",
       "10        1965.0       384.0           3.0     1040.0       1040.0   \n",
       "11        2006.0       736.0           4.0     2324.0       1175.0   \n",
       "12        1962.0       352.0           2.0      912.0        912.0   \n",
       "13        2007.0       840.0           3.0     1494.0       1494.0   \n",
       "14        1960.0       352.0           2.0     1253.0       1253.0   \n",
       "15        2001.0       576.0           2.0      854.0        832.0   \n",
       "16        1970.0       480.0           2.0     1004.0       1004.0   \n",
       "17        1967.0       516.0           2.0     1296.0          0.0   \n",
       "18        2004.0       576.0           3.0     1114.0       1114.0   \n",
       "19        1965.0       294.0           3.0     1339.0       1029.0   \n",
       "\n",
       "    GarageYrBlt  LotFrontage  WoodDeckSF  \n",
       "0        2003.0      65.0000         0.0  \n",
       "1        1976.0      80.0000       298.0  \n",
       "2        2001.0      68.0000         0.0  \n",
       "3        1998.0      60.0000         0.0  \n",
       "4        2000.0      84.0000       192.0  \n",
       "5        1993.0      85.0000        40.0  \n",
       "6        2004.0      75.0000       255.0  \n",
       "7        1973.0      70.1875       235.0  \n",
       "8        1931.0      51.0000        90.0  \n",
       "9        1939.0      50.0000         0.0  \n",
       "10       1965.0      70.0000         0.0  \n",
       "11       2005.0      85.0000       147.0  \n",
       "12       1962.0      70.1875       140.0  \n",
       "13       2006.0      91.0000       160.0  \n",
       "14       1960.0      70.1875         0.0  \n",
       "15       1991.0      51.0000        48.0  \n",
       "16       1970.0      70.1875         0.0  \n",
       "17       1967.0      72.0000         0.0  \n",
       "18       2004.0      66.0000         0.0  \n",
       "19       1958.0      70.0000         0.0  "
      ]
     },
     "execution_count": 10,
     "metadata": {},
     "output_type": "execute_result"
    }
   ],
   "source": [
    "cols_list = cols.index.tolist()\n",
    "cols_list.remove('GarageCars')  # This removes 'GarageCars' from the list\n",
    "x = train_imputed[cols_list]\n",
    "x"
   ]
  },
  {
   "cell_type": "code",
   "execution_count": 11,
   "metadata": {},
   "outputs": [],
   "source": [
    "y = train_imputed[\"SalePrice\"]\n",
    "#Creates a new variable 'y' and put all the \"SalePrice\" values from 'train_imputed' into it.\n",
    "#This allows me to use the feature variables in x to predict the target variable in y. But, first, I need to...\n",
    "\n",
    "x = x.drop([\"SalePrice\"], axis=1) #Drop the SalePrice column from the table."
   ]
  },
  {
   "cell_type": "code",
   "execution_count": 12,
   "metadata": {},
   "outputs": [
    {
     "data": {
      "text/plain": [
       "0.9624508962584694"
      ]
     },
     "execution_count": 12,
     "metadata": {},
     "output_type": "execute_result"
    }
   ],
   "source": [
    "#Now determine the mean accuracy score(i.e. how much SalePrice(y) is determined by the x-variables)\n",
    "lr = linear_model.LinearRegression()\n",
    "model = lr.fit(x,y)\n",
    "predictions = model.predict(x)\n",
    "model.score(x,y)"
   ]
  },
  {
   "cell_type": "markdown",
   "metadata": {},
   "source": [
    "[Back to top](#Index)\n",
    "\n",
    "### 3.1 Linear Regression\n",
    "\n",
    "The algorithm used in this project is Multiple Linear Regression, a predictive modeling approach for estimating the relationship between several independent variables and a dependent variable. Mathematically, the linear regression model can be written as y = b1x1 + b2x2 + … + c where y is the dependent variable, x1, x2… are the independent variables, and c is the (estimated) intercept.\n",
    "\n",
    "Linear Regression has its roots in the method of least squares, developed by Carl Friedrich Gauss. The objective is to find the line that minimizes the sum of the squared vertical distances from each point to the line.\n",
    "\n"
   ]
  },
  {
   "cell_type": "code",
   "execution_count": 13,
   "metadata": {},
   "outputs": [
    {
     "data": {
      "text/plain": [
       "<matplotlib.collections.PathCollection at 0x15a8016d0>"
      ]
     },
     "execution_count": 13,
     "metadata": {},
     "output_type": "execute_result"
    },
    {
     "data": {
      "image/png": "[encoded data removed]",
      "text/plain": [
       "<Figure size 640x480 with 1 Axes>"
      ]
     },
     "metadata": {},
     "output_type": "display_data"
    }
   ],
   "source": [
    "#Plot a scatter graph to visually represent the correlation\n",
    "plt.scatter(predictions, y)"
   ]
  },
  {
   "cell_type": "markdown",
   "metadata": {},
   "source": [
    "[Back to top](#Index)\n",
    "\n",
    "### 3.2 Analysis \n",
    "\n",
    "Implementation Steps:\n",
    "\n",
    "1. Data Preprocessing: I started by reading the csv file, creating a dataframe and handling missing values, outliers, and categorical variables. Then, the cleaned data was stored in a variable called, `train_imputed`.\n",
    "\n",
    "2. Feature Selection: My next step was to identify features (x-variables) with a strong correlation to the dependent variable (y) \"SalePrice\". My project used 14 such features with correlation > 50%.\n",
    "\n",
    "3. Step 3 was to isolate the target variable \"SalePrice\" from the features (x-values) and then drop irrelevant columns, like those that can induce multicollinearity (e.g. \"GarageCars\").\n",
    "\n",
    "4. Train the Model & Make Predictions: I utilized `LinearRegression` from the `sklearn.linear_model` library to train the model. Then, I used the trained model to predict the SalePrice based on the feature variables.\n",
    "\n",
    "5. Evaluate the Model: The final step was to determine the model's performance using:\n",
    "\n",
    "   lr = linear_model.LinearRegression()\n",
    "   \n",
    "   model = lr.fit(x,y)\n",
    "   \n",
    "   predictions = model.predict(x)\n",
    "   \n",
    "   model.score(x,y)"
   ]
  },
  {
   "cell_type": "markdown",
   "metadata": {},
   "source": [
    "[Back to top](#Index)\n",
    "\n",
    "### 3.3 Results\n",
    "\n",
    "This project improves upon Dr. William's analysis by not only incorporating a broader range of 'cleaned' data (features) but also by addressing the issue of multicollinearity. This robust approach led to a model score slightly over 96%.\n"
   ]
  },
  {
   "cell_type": "markdown",
   "metadata": {},
   "source": [
    "[Back to top](#Index)\n",
    "\n",
    "### 3.4 Verify Your Model Against Test Data\n",
    "\n",
    "To work with the test data, I first read the file and create a histogram to see if the data was skewed, which it was."
   ]
  },
  {
   "cell_type": "code",
   "execution_count": 32,
   "metadata": {},
   "outputs": [
    {
     "data": {
      "image/png": "[encoded data removed]",
      "text/plain": [
       "<Figure size 640x480 with 1 Axes>"
      ]
     },
     "metadata": {},
     "output_type": "display_data"
    }
   ],
   "source": [
    "# Reading the CSV file into a DataFrame\n",
    "data = pd.read_csv(\"jtest.csv\")\n",
    "\n",
    "# Extracting the \"SalePrice\" column\n",
    "S_Price = data[\"SalePrice\"]\n",
    "\n",
    "# Creating a histogram to get familiar with the data\n",
    "plt.hist(S_Price)\n",
    "plt.show()"
   ]
  },
  {
   "cell_type": "code",
   "execution_count": 33,
   "metadata": {},
   "outputs": [
    {
     "data": {
      "text/plain": [
       "1.5252421671471026"
      ]
     },
     "execution_count": 33,
     "metadata": {},
     "output_type": "execute_result"
    }
   ],
   "source": [
    "train2=data.iloc[0:80,:]\n",
    "S_Price.skew()"
   ]
  },
  {
   "cell_type": "markdown",
   "metadata": {},
   "source": [
    "To get the data more uniform, I then re-ran the histogram using the log of SalePrice"
   ]
  },
  {
   "cell_type": "code",
   "execution_count": 96,
   "metadata": {},
   "outputs": [
    {
     "data": {
      "text/plain": [
       "(array([ 3.,  7., 19., 14., 21., 17.,  9.,  5.,  3.,  2.]),\n",
       " array([11.27720313, 11.46208588, 11.64696863, 11.83185139, 12.01673414,\n",
       "        12.20161689, 12.38649964, 12.57138239, 12.75626514, 12.94114789,\n",
       "        13.12603064]),\n",
       " <BarContainer object of 10 artists>)"
      ]
     },
     "execution_count": 96,
     "metadata": {},
     "output_type": "execute_result"
    },
    {
     "data": {
      "image/png": "[encoded data removed]",
      "text/plain": [
       "<Figure size 640x480 with 1 Axes>"
      ]
     },
     "metadata": {},
     "output_type": "display_data"
    }
   ],
   "source": [
    "plt.hist(np.log(S_Price)) #Now it looks more uniform"
   ]
  },
  {
   "cell_type": "markdown",
   "metadata": {},
   "source": [
    "Finally, I identified the x-variables most correlated to SalePrice(y)"
   ]
  },
  {
   "cell_type": "code",
   "execution_count": 97,
   "metadata": {},
   "outputs": [
    {
     "data": {
      "text/plain": [
       "SalePrice       1.000000\n",
       "OverallQual     0.786003\n",
       "GrLivArea       0.744012\n",
       "GarageArea      0.694061\n",
       "GarageCars      0.662996\n",
       "TotRmsAbvGrd    0.600238\n",
       "TotalBsmtSF     0.548819\n",
       "1stFlrSF        0.540889\n",
       "Fireplaces      0.505403\n",
       "BsmtFinSF1      0.504946\n",
       "YearRemodAdd    0.459630\n",
       "LotArea         0.458530\n",
       "OpenPorchSF     0.426016\n",
       "FullBath        0.421878\n",
       "ScreenPorch     0.405428\n",
       "Name: SalePrice, dtype: float64"
      ]
     },
     "execution_count": 97,
     "metadata": {},
     "output_type": "execute_result"
    }
   ],
   "source": [
    "test=pd.read_csv(\"jtest.csv\")\n",
    "numeric = test.select_dtypes(include=[np.number]) \n",
    "corr = numeric.corr()\n",
    "cols = corr[\"SalePrice\"].sort_values(ascending=False)[0:15] \n",
    "cols"
   ]
  },
  {
   "cell_type": "code",
   "execution_count": 98,
   "metadata": {},
   "outputs": [],
   "source": [
    "# Remove columns that have all missing values and 'Alley' specifically\n",
    "all_missing_numeric_cols = [col for col in numeric_cols if train2[col].isna().all()]\n",
    "all_missing_non_numeric_cols = [col for col in non_numeric_cols if train2[col].isna().all() or col == 'Alley']\n",
    "\n",
    "numeric_cols = [col for col in numeric_cols if col not in all_missing_numeric_cols]\n",
    "non_numeric_cols = [col for col in non_numeric_cols if col not in all_missing_non_numeric_cols]"
   ]
  },
  {
   "cell_type": "code",
   "execution_count": 99,
   "metadata": {},
   "outputs": [],
   "source": [
    "train2_numeric_imputed = numeric_imputer.fit_transform(train[numeric_cols])\n",
    "train2_non_numeric_imputed = non_numeric_imputer.fit_transform(train[non_numeric_cols])\n"
   ]
  },
  {
   "cell_type": "code",
   "execution_count": 100,
   "metadata": {},
   "outputs": [],
   "source": [
    "# Apply imputers on train2\n",
    "train2_numeric_imputed = numeric_imputer.fit_transform(train2[numeric_cols])\n",
    "train2_non_numeric_imputed = non_numeric_imputer.fit_transform(train2[non_numeric_cols])\n",
    "\n",
    "# Check if the shape of the imputed data matches the length of columns\n",
    "if train2_numeric_imputed.shape[1] != len(numeric_cols):\n",
    "    print(\"Mismatch in numeric columns!\")\n",
    "\n",
    "if train2_non_numeric_imputed.shape[1] != len(non_numeric_cols):\n",
    "    print(\"Mismatch in non-numeric columns!\")\n",
    "\n",
    "# Convert back to DataFrames\n",
    "train2_numeric_imputed_df = pd.DataFrame(train2_numeric_imputed, columns=numeric_cols)\n",
    "train2_non_numeric_imputed_df = pd.DataFrame(train2_non_numeric_imputed, columns=non_numeric_cols)\n",
    "\n",
    "# Combine the imputed DataFrames back together\n",
    "train2_imputed = pd.concat([train2_numeric_imputed_df, train2_non_numeric_imputed_df], axis=1)\n"
   ]
  },
  {
   "cell_type": "markdown",
   "metadata": {},
   "source": [
    "After I cleaned the data, I re-ran the correlation and identifed columns with non_numeric values so I could remove them."
   ]
  },
  {
   "cell_type": "code",
   "execution_count": 101,
   "metadata": {},
   "outputs": [
    {
     "data": {
      "text/plain": [
       "SalePrice       1.000000\n",
       "GrLivArea       0.765031\n",
       "OverallQual     0.763741\n",
       "GarageArea      0.694390\n",
       "GarageCars      0.659627\n",
       "YearBuilt       0.609677\n",
       "TotRmsAbvGrd    0.587755\n",
       "BsmtFinSF1      0.574317\n",
       "TotalBsmtSF     0.571786\n",
       "1stFlrSF        0.516456\n",
       "YearRemodAdd    0.495098\n",
       "GarageYrBlt     0.481247\n",
       "Fireplaces      0.474501\n",
       "BsmtFullBath    0.468457\n",
       "MasVnrArea      0.465877\n",
       "Name: SalePrice, dtype: float64"
      ]
     },
     "execution_count": 101,
     "metadata": {},
     "output_type": "execute_result"
    }
   ],
   "source": [
    "numeric = train2_imputed.select_dtypes(include=[np.number]) \n",
    "corr = numeric.corr()\n",
    "cols = corr[\"SalePrice\"].sort_values(ascending=False)[0:15] \n",
    "cols"
   ]
  },
  {
   "cell_type": "code",
   "execution_count": 107,
   "metadata": {},
   "outputs": [],
   "source": [
    "X_train = train2.copy()"
   ]
  },
  {
   "cell_type": "markdown",
   "metadata": {},
   "source": [
    "Columns with non-numeric values:"
   ]
  },
  {
   "cell_type": "code",
   "execution_count": 108,
   "metadata": {},
   "outputs": [
    {
     "name": "stdout",
     "output_type": "stream",
     "text": [
      "Non-numeric columns:  ['MSZoning', 'Street', 'Alley', 'LotShape', 'LandContour', 'Utilities', 'LotConfig', 'LandSlope', 'Neighborhood', 'Condition1', 'Condition2', 'BldgType', 'HouseStyle', 'RoofStyle', 'RoofMatl', 'Exterior1st', 'Exterior2nd', 'MasVnrType', 'ExterQual', 'ExterCond', 'Foundation', 'BsmtQual', 'BsmtCond', 'BsmtExposure', 'BsmtFinType1', 'BsmtFinType2', 'Heating', 'HeatingQC', 'CentralAir', 'Electrical', 'KitchenQual', 'Functional', 'FireplaceQu', 'GarageType', 'GarageFinish', 'GarageQual', 'GarageCond', 'PavedDrive', 'PoolQC', 'Fence', 'MiscFeature', 'SaleType', 'SaleCondition']\n"
     ]
    }
   ],
   "source": [
    "non_numeric_cols = X_train.select_dtypes(exclude=[np.number]).columns.tolist()\n",
    "print(\"Non-numeric columns: \", non_numeric_cols)"
   ]
  },
  {
   "cell_type": "code",
   "execution_count": 109,
   "metadata": {},
   "outputs": [],
   "source": [
    "X_train = pd.get_dummies(X_train)"
   ]
  },
  {
   "cell_type": "code",
   "execution_count": 115,
   "metadata": {
    "scrolled": true
   },
   "outputs": [
    {
     "name": "stdout",
     "output_type": "stream",
     "text": [
      "Data types after transformations:  MSSubClass                 int64\n",
      "LotFrontage              float64\n",
      "LotArea                    int64\n",
      "OverallQual                int64\n",
      "OverallCond                int64\n",
      "                          ...   \n",
      "SaleCondition_Abnorml      uint8\n",
      "SaleCondition_Alloca       uint8\n",
      "SaleCondition_Family       uint8\n",
      "SaleCondition_Normal       uint8\n",
      "SaleCondition_Partial      uint8\n",
      "Length: 209, dtype: object\n",
      "Subset of DataFrame:     MSSubClass  LotFrontage  LotArea  OverallQual  OverallCond  YearBuilt  \\\n",
      "0          20          NaN    10603            6            7       1977   \n",
      "1          60         77.0     9206            6            5       1985   \n",
      "2          90         64.0     7018            5            5       1979   \n",
      "3          20         94.0    10402            7            5       2009   \n",
      "4          50          NaN     7758            7            4       1931   \n",
      "\n",
      "   YearRemodAdd  MasVnrArea  BsmtFinSF1  BsmtFinSF2  ...  MiscFeature_Shed  \\\n",
      "0          2001        28.0        1200           0  ...                 0   \n",
      "1          1985       336.0           0           0  ...                 0   \n",
      "2          1979         0.0           0           0  ...                 0   \n",
      "3          2009         0.0           0           0  ...                 0   \n",
      "4          1950       600.0         224           0  ...                 0   \n",
      "\n",
      "   SaleType_COD  SaleType_ConLI  SaleType_New  SaleType_WD  \\\n",
      "0             0               0             0            1   \n",
      "1             0               0             0            1   \n",
      "2             0               0             0            1   \n",
      "3             0               0             0            1   \n",
      "4             0               0             0            1   \n",
      "\n",
      "   SaleCondition_Abnorml  SaleCondition_Alloca  SaleCondition_Family  \\\n",
      "0                      0                     0                     0   \n",
      "1                      0                     0                     0   \n",
      "2                      0                     1                     0   \n",
      "3                      0                     0                     0   \n",
      "4                      0                     0                     0   \n",
      "\n",
      "   SaleCondition_Normal  SaleCondition_Partial  \n",
      "0                     1                      0  \n",
      "1                     1                      0  \n",
      "2                     0                      0  \n",
      "3                     1                      0  \n",
      "4                     1                      0  \n",
      "\n",
      "[5 rows x 209 columns]\n"
     ]
    }
   ],
   "source": [
    "# Check the data types again\n",
    "print(\"Data types after transformations: \", X_train.dtypes)\n",
    "\n",
    "# Print a subset of the DataFrame\n",
    "print(\"Subset of DataFrame: \", X_train.head())"
   ]
  },
  {
   "cell_type": "code",
   "execution_count": 121,
   "metadata": {},
   "outputs": [],
   "source": [
    "X_train = X_train.drop(['Unnamed: 0', 'Id'], axis=1, errors='ignore')\n"
   ]
  },
  {
   "cell_type": "code",
   "execution_count": 130,
   "metadata": {},
   "outputs": [],
   "source": [
    "from sklearn.impute import SimpleImputer\n",
    "\n",
    "imputer = SimpleImputer(strategy='mean')\n",
    "X_train_imputed = imputer.fit_transform(X_train)\n"
   ]
  },
  {
   "cell_type": "code",
   "execution_count": 134,
   "metadata": {},
   "outputs": [],
   "source": [
    "from sklearn.preprocessing import StandardScaler\n",
    "\n",
    "scaler = StandardScaler()\n",
    "X_train_scaled = scaler.fit_transform(X_train_imputed)"
   ]
  },
  {
   "cell_type": "code",
   "execution_count": 135,
   "metadata": {},
   "outputs": [],
   "source": [
    "y_train = train2[\"SalePrice\"]\n"
   ]
  },
  {
   "cell_type": "code",
   "execution_count": 136,
   "metadata": {},
   "outputs": [
    {
     "name": "stdout",
     "output_type": "stream",
     "text": [
      "80\n",
      "80\n"
     ]
    }
   ],
   "source": [
    "print(X_train_scaled.shape[0])\n",
    "print(y_train.shape[0])\n"
   ]
  },
  {
   "cell_type": "code",
   "execution_count": 139,
   "metadata": {},
   "outputs": [
    {
     "data": {
      "text/html": [
       "<style>#sk-container-id-2 {color: black;}#sk-container-id-2 pre{padding: 0;}#sk-container-id-2 div.sk-toggleable {background-color: white;}#sk-container-id-2 label.sk-toggleable__label {cursor: pointer;display: block;width: 100%;margin-bottom: 0;padding: 0.3em;box-sizing: border-box;text-align: center;}#sk-container-id-2 label.sk-toggleable__label-arrow:before {content: \"▸\";float: left;margin-right: 0.25em;color: #696969;}#sk-container-id-2 label.sk-toggleable__label-arrow:hover:before {color: black;}#sk-container-id-2 div.sk-estimator:hover label.sk-toggleable__label-arrow:before {color: black;}#sk-container-id-2 div.sk-toggleable__content {max-height: 0;max-width: 0;overflow: hidden;text-align: left;background-color: #f0f8ff;}#sk-container-id-2 div.sk-toggleable__content pre {margin: 0.2em;color: black;border-radius: 0.25em;background-color: #f0f8ff;}#sk-container-id-2 input.sk-toggleable__control:checked~div.sk-toggleable__content {max-height: 200px;max-width: 100%;overflow: auto;}#sk-container-id-2 input.sk-toggleable__control:checked~label.sk-toggleable__label-arrow:before {content: \"▾\";}#sk-container-id-2 div.sk-estimator input.sk-toggleable__control:checked~label.sk-toggleable__label {background-color: #d4ebff;}#sk-container-id-2 div.sk-label input.sk-toggleable__control:checked~label.sk-toggleable__label {background-color: #d4ebff;}#sk-container-id-2 input.sk-hidden--visually {border: 0;clip: rect(1px 1px 1px 1px);clip: rect(1px, 1px, 1px, 1px);height: 1px;margin: -1px;overflow: hidden;padding: 0;position: absolute;width: 1px;}#sk-container-id-2 div.sk-estimator {font-family: monospace;background-color: #f0f8ff;border: 1px dotted black;border-radius: 0.25em;box-sizing: border-box;margin-bottom: 0.5em;}#sk-container-id-2 div.sk-estimator:hover {background-color: #d4ebff;}#sk-container-id-2 div.sk-parallel-item::after {content: \"\";width: 100%;border-bottom: 1px solid gray;flex-grow: 1;}#sk-container-id-2 div.sk-label:hover label.sk-toggleable__label {background-color: #d4ebff;}#sk-container-id-2 div.sk-serial::before {content: \"\";position: absolute;border-left: 1px solid gray;box-sizing: border-box;top: 0;bottom: 0;left: 50%;z-index: 0;}#sk-container-id-2 div.sk-serial {display: flex;flex-direction: column;align-items: center;background-color: white;padding-right: 0.2em;padding-left: 0.2em;position: relative;}#sk-container-id-2 div.sk-item {position: relative;z-index: 1;}#sk-container-id-2 div.sk-parallel {display: flex;align-items: stretch;justify-content: center;background-color: white;position: relative;}#sk-container-id-2 div.sk-item::before, #sk-container-id-2 div.sk-parallel-item::before {content: \"\";position: absolute;border-left: 1px solid gray;box-sizing: border-box;top: 0;bottom: 0;left: 50%;z-index: -1;}#sk-container-id-2 div.sk-parallel-item {display: flex;flex-direction: column;z-index: 1;position: relative;background-color: white;}#sk-container-id-2 div.sk-parallel-item:first-child::after {align-self: flex-end;width: 50%;}#sk-container-id-2 div.sk-parallel-item:last-child::after {align-self: flex-start;width: 50%;}#sk-container-id-2 div.sk-parallel-item:only-child::after {width: 0;}#sk-container-id-2 div.sk-dashed-wrapped {border: 1px dashed gray;margin: 0 0.4em 0.5em 0.4em;box-sizing: border-box;padding-bottom: 0.4em;background-color: white;}#sk-container-id-2 div.sk-label label {font-family: monospace;font-weight: bold;display: inline-block;line-height: 1.2em;}#sk-container-id-2 div.sk-label-container {text-align: center;}#sk-container-id-2 div.sk-container {/* jupyter's `normalize.less` sets `[hidden] { display: none; }` but bootstrap.min.css set `[hidden] { display: none !important; }` so we also need the `!important` here to be able to override the default hidden behavior on the sphinx rendered scikit-learn.org. See: https://github.com/scikit-learn/scikit-learn/issues/21755 */display: inline-block !important;position: relative;}#sk-container-id-2 div.sk-text-repr-fallback {display: none;}</style><div id=\"sk-container-id-2\" class=\"sk-top-container\"><div class=\"sk-text-repr-fallback\"><pre>LinearRegression()</pre><b>In a Jupyter environment, please rerun this cell to show the HTML representation or trust the notebook. <br />On GitHub, the HTML representation is unable to render, please try loading this page with nbviewer.org.</b></div><div class=\"sk-container\" hidden><div class=\"sk-item\"><div class=\"sk-estimator sk-toggleable\"><input class=\"sk-toggleable__control sk-hidden--visually\" id=\"sk-estimator-id-2\" type=\"checkbox\" checked><label for=\"sk-estimator-id-2\" class=\"sk-toggleable__label sk-toggleable__label-arrow\">LinearRegression</label><div class=\"sk-toggleable__content\"><pre>LinearRegression()</pre></div></div></div></div></div>"
      ],
      "text/plain": [
       "LinearRegression()"
      ]
     },
     "execution_count": 139,
     "metadata": {},
     "output_type": "execute_result"
    }
   ],
   "source": [
    "model.fit(X_train_scaled, y_train)"
   ]
  },
  {
   "cell_type": "code",
   "execution_count": 141,
   "metadata": {},
   "outputs": [
    {
     "data": {
      "text/plain": [
       "array([205000., 178000., 118964., 198900., 169500., 250000., 100000.,\n",
       "       115000., 115000., 190000., 136900., 180000., 383970., 217000.,\n",
       "       259500., 176000., 139000., 155000., 320000., 163990., 180000.,\n",
       "       100000., 136000., 153900., 181000.,  84500., 128000.,  87000.,\n",
       "       155000., 150000., 226000., 244000., 150750., 220000., 180000.,\n",
       "       174000., 143000., 171000., 230000., 231500., 115000., 260000.,\n",
       "       166000., 204000., 125000., 130000., 105000., 222500., 141000.,\n",
       "       115000., 122000., 372402., 190000., 235000., 125000.,  79000.,\n",
       "       109500., 269500., 254900., 320000., 162500., 412500., 220000.,\n",
       "       103200., 152000., 127500., 190000., 325624., 183500., 228000.,\n",
       "       128500., 215000., 239000., 163000., 184000., 243000., 211000.,\n",
       "       172500., 501837., 100000.])"
      ]
     },
     "execution_count": 141,
     "metadata": {},
     "output_type": "execute_result"
    }
   ],
   "source": [
    "predictions = model.predict(X_train_scaled)\n",
    "predictions"
   ]
  },
  {
   "cell_type": "code",
   "execution_count": 145,
   "metadata": {},
   "outputs": [
    {
     "name": "stdout",
     "output_type": "stream",
     "text": [
      "R^2 is: 1.0\n"
     ]
    }
   ],
   "source": [
    "print(f\"R^2 is: {model.score(X_train_scaled,y_train)}\")"
   ]
  },
  {
   "cell_type": "markdown",
   "metadata": {},
   "source": [
    "[Back to top](#Index)\n",
    "\n",
    "## Conclusion\n",
    "\n",
    "The objective of my project was to improve upon Dr. Williams' model by incorporating a broader range of variables and addressing the issue of multicollinearity. Using multiple linear regression, I attempted to predict house prices based on several features with more than 50% correlation to SalePrice (excluding SalePrice itself) and, eventually, excluding the column ‘GarageCars’ (due to multicollinearity).\n",
    "\n",
    "Observations:\n",
    "\n",
    "1.) The importance of including multiple independent ‘x’ variables to predict the dependent ‘y’ variable.\n",
    "\n",
    "2.) The importance of including strongly correlated variables such as OverallQual, MasVnrArea, and FullBath to SalePrice.\n",
    "\n",
    "3.) The importance of excluding variables that have multicollinearity (e.g. the close correlation between GarageArea and GarageCars).\n",
    "\n",
    "In conclsuion, my project successfully implemented a step-by-step analysis from data preparation to feature selection, and model training to evaluation. Ultimately, the model achieved an impressive score of slightly over 96%, confirming its reliability and robustness in predicting house prices. Future work could involve testing the model against new, unseen data to further validate its effectiveness."
   ]
  },
  {
   "cell_type": "markdown",
   "metadata": {},
   "source": [
    "\n",
    "[Back to top](#Index\n",
    ")\n",
    "## References\n",
    "\n",
    "Add all references you used to complete this project.\n",
    "\n",
    "The references I used to complete this project were the course's past modules and Open AI's GPT4."
   ]
  }
 ],
 "metadata": {
  "kernelspec": {
   "display_name": "Python 3 (ipykernel)",
   "language": "python",
   "name": "python3"
  },
  "language_info": {
   "codemirror_mode": {
    "name": "ipython",
    "version": 3
   },
   "file_extension": ".py",
   "mimetype": "text/x-python",
   "name": "python",
   "nbconvert_exporter": "python",
   "pygments_lexer": "ipython3",
   "version": "3.11.4"
  }
 },
 "nbformat": 4,
 "nbformat_minor": 4
}
